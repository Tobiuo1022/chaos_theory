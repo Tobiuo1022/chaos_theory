{
 "cells": [
  {
   "cell_type": "code",
   "execution_count": 1,
   "id": "87a0b63d",
   "metadata": {},
   "outputs": [],
   "source": [
    "import matplotlib.pyplot as plt"
   ]
  },
  {
   "cell_type": "code",
   "execution_count": 2,
   "id": "a98295a8",
   "metadata": {},
   "outputs": [],
   "source": [
    "path = '../data/fixed_points.dat'\n",
    "with open(path, mode='r') as f:\n",
    "    lines = [r.strip() for r in f.readlines()]"
   ]
  },
  {
   "cell_type": "code",
   "execution_count": 3,
   "id": "adb930e9",
   "metadata": {},
   "outputs": [],
   "source": [
    "mu_a = []\n",
    "fixed_points = []\n",
    "\n",
    "for line in lines:\n",
    "    facts = line.split(',')\n",
    "    mu_a.append(float(facts[0]))\n",
    "    fixed_points.append((float(facts[1]), float(facts[2]), float(facts[3])))"
   ]
  },
  {
   "cell_type": "code",
   "execution_count": 4,
   "id": "162c3866",
   "metadata": {},
   "outputs": [
    {
     "data": {
      "text/plain": [
       "<matplotlib.collections.PathCollection at 0x10a7a8c70>"
      ]
     },
     "execution_count": 4,
     "metadata": {},
     "output_type": "execute_result"
    },
    {
     "data": {
      "image/png": "[encoded data removed]",
      "text/plain": [
       "<Figure size 432x288 with 1 Axes>"
      ]
     },
     "metadata": {
      "needs_background": "light"
     },
     "output_type": "display_data"
    }
   ],
   "source": [
    "x = mu_a\n",
    "y = [fp[0] for fp in fixed_points]\n",
    "plt.scatter(x, y, s=1)"
   ]
  }
 ],
 "metadata": {
  "kernelspec": {
   "display_name": "Python 3 (ipykernel)",
   "language": "python",
   "name": "python3"
  },
  "language_info": {
   "codemirror_mode": {
    "name": "ipython",
    "version": 3
   },
   "file_extension": ".py",
   "mimetype": "text/x-python",
   "name": "python",
   "nbconvert_exporter": "python",
   "pygments_lexer": "ipython3",
   "version": "3.9.9"
  }
 },
 "nbformat": 4,
 "nbformat_minor": 5
}
