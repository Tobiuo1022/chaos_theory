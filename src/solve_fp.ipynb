{
 "cells": [
  {
   "cell_type": "code",
   "execution_count": 1,
   "id": "1b8ea528",
   "metadata": {},
   "outputs": [],
   "source": [
    "import sympy as sp"
   ]
  },
  {
   "cell_type": "code",
   "execution_count": 2,
   "id": "64eb29a0",
   "metadata": {},
   "outputs": [],
   "source": [
    "# sympyでは解けないので二分法で近似的に求める\n",
    "def bisection(func, left, right, error=1e-10, max_loop=100):\n",
    "    if(0.0 < func.subs(a, left)*func.subs(a, right)):\n",
    "        print(\"error\")\n",
    "        return -1\n",
    "        \n",
    "    for i in range(max_loop):\n",
    "        mid = (left + right)/2.0\n",
    "        \n",
    "        if(0.0 < func.subs(a, mid)*func.subs(a, right)):\n",
    "            right = mid\n",
    "        else:\n",
    "            left = mid\n",
    "        \n",
    "        if(right-left <= error):\n",
    "            break\n",
    "            \n",
    "    return mid"
   ]
  },
  {
   "cell_type": "code",
   "execution_count": 3,
   "id": "eb4189ae",
   "metadata": {},
   "outputs": [],
   "source": [
    "birth = 7.88\n",
    "can_ea = 0.011\n",
    "can_el = 0.02\n",
    "can_pa = 0.004\n",
    "mu_l = 0.161"
   ]
  },
  {
   "cell_type": "code",
   "execution_count": 4,
   "id": "b6b8238c",
   "metadata": {},
   "outputs": [],
   "source": [
    "l, p, a = sp.symbols('l p a', positive=True)\n",
    "mu_a = sp.symbols('mu_a', positive=True)\n",
    "\n",
    "larvae = birth * a * sp.exp(- can_ea * a - can_el * l)\n",
    "pupae = l * (1 - mu_l)\n",
    "adult = p * sp.exp(- can_pa * a) + a * (1 - mu_a)"
   ]
  },
  {
   "cell_type": "code",
   "execution_count": 5,
   "id": "500b771d",
   "metadata": {},
   "outputs": [],
   "source": [
    "# adult に pupae を代入\n",
    "i = adult.subs(p, pupae)\n",
    "# i より, l を a で表現する\n",
    "ii = sp.solve(i - a, l)[0]\n",
    "# larvae を a で表現する\n",
    "iii = larvae.subs(l, ii)\n",
    "# ii と iii から a の数式を取得する\n",
    "iv = ii - iii"
   ]
  },
  {
   "cell_type": "code",
   "execution_count": 6,
   "id": "17aa2c89",
   "metadata": {},
   "outputs": [],
   "source": [
    "fp_list = []\n",
    "for i in range(1, 101):\n",
    "    m = round(i*0.01, 2)\n",
    "    \n",
    "    fp_a = bisection(iv.subs(mu_a, m), 0, 300)\n",
    "    fp_l = ii.subs({a:fp_a, mu_a:m})\n",
    "    fp_p = pupae.subs({l:fp_l, mu_a:m})\n",
    "    \n",
    "    fp_list.append((fp_l, fp_p, fp_a))"
   ]
  },
  {
   "cell_type": "code",
   "execution_count": 7,
   "id": "fef4cd3f",
   "metadata": {},
   "outputs": [],
   "source": [
    "path = \"../data/fixed_points.dat\"\n",
    "with open(path, mode='w') as f:\n",
    "    for i in range(100):\n",
    "        m = round((i+1)*0.01, 2)\n",
    "        buf = \"{},{},{},{}\\n\".format(m, fp_list[i][0], fp_list[i][1], fp_list[i][2])\n",
    "        f.write(buf)"
   ]
  }
 ],
 "metadata": {
  "kernelspec": {
   "display_name": "Python 3 (ipykernel)",
   "language": "python",
   "name": "python3"
  },
  "language_info": {
   "codemirror_mode": {
    "name": "ipython",
    "version": 3
   },
   "file_extension": ".py",
   "mimetype": "text/x-python",
   "name": "python",
   "nbconvert_exporter": "python",
   "pygments_lexer": "ipython3",
   "version": "3.9.9"
  }
 },
 "nbformat": 4,
 "nbformat_minor": 5
}
